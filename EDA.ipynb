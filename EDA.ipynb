{
 "cells": [
  {
   "cell_type": "code",
   "execution_count": 1,
   "metadata": {},
   "outputs": [],
   "source": [
    "import pandas as pd \n",
    "import numpy as np\n",
    "import matplotlib.pyplot as plt\n",
    "import seaborn as sns \n",
    "import datetime\n",
    "\n",
    "%matplotlib inline\n",
    "color = sns.color_palette()"
   ]
  },
  {
   "cell_type": "code",
   "execution_count": 2,
   "metadata": {},
   "outputs": [],
   "source": [
    "pd.set_option('display.float_format', lambda x: '%.3f' % x)"
   ]
  },
  {
   "cell_type": "code",
   "execution_count": 3,
   "metadata": {},
   "outputs": [],
   "source": [
    "# specify encoding to deal with different formats\n",
    "df = pd.read_csv('transaction_data.csv', encoding = 'ISO-8859-1')"
   ]
  },
  {
   "cell_type": "code",
   "execution_count": 4,
   "metadata": {},
   "outputs": [
    {
     "data": {
      "text/html": [
       "<div>\n",
       "<style scoped>\n",
       "    .dataframe tbody tr th:only-of-type {\n",
       "        vertical-align: middle;\n",
       "    }\n",
       "\n",
       "    .dataframe tbody tr th {\n",
       "        vertical-align: top;\n",
       "    }\n",
       "\n",
       "    .dataframe thead th {\n",
       "        text-align: right;\n",
       "    }\n",
       "</style>\n",
       "<table border=\"1\" class=\"dataframe\">\n",
       "  <thead>\n",
       "    <tr style=\"text-align: right;\">\n",
       "      <th></th>\n",
       "      <th>UserId</th>\n",
       "      <th>TransactionId</th>\n",
       "      <th>TransactionTime</th>\n",
       "      <th>ItemCode</th>\n",
       "      <th>ItemDescription</th>\n",
       "      <th>NumberOfItemsPurchased</th>\n",
       "      <th>CostPerItem</th>\n",
       "      <th>Country</th>\n",
       "    </tr>\n",
       "  </thead>\n",
       "  <tbody>\n",
       "    <tr>\n",
       "      <th>0</th>\n",
       "      <td>278166</td>\n",
       "      <td>6355745</td>\n",
       "      <td>Sat Feb 02 12:50:00 IST 2019</td>\n",
       "      <td>465549</td>\n",
       "      <td>FAMILY ALBUM WHITE PICTURE FRAME</td>\n",
       "      <td>6</td>\n",
       "      <td>11.730</td>\n",
       "      <td>United Kingdom</td>\n",
       "    </tr>\n",
       "    <tr>\n",
       "      <th>1</th>\n",
       "      <td>337701</td>\n",
       "      <td>6283376</td>\n",
       "      <td>Wed Dec 26 09:06:00 IST 2018</td>\n",
       "      <td>482370</td>\n",
       "      <td>LONDON BUS COFFEE MUG</td>\n",
       "      <td>3</td>\n",
       "      <td>3.520</td>\n",
       "      <td>United Kingdom</td>\n",
       "    </tr>\n",
       "    <tr>\n",
       "      <th>2</th>\n",
       "      <td>267099</td>\n",
       "      <td>6385599</td>\n",
       "      <td>Fri Feb 15 09:45:00 IST 2019</td>\n",
       "      <td>490728</td>\n",
       "      <td>SET 12 COLOUR PENCILS DOLLY GIRL</td>\n",
       "      <td>72</td>\n",
       "      <td>0.900</td>\n",
       "      <td>France</td>\n",
       "    </tr>\n",
       "    <tr>\n",
       "      <th>3</th>\n",
       "      <td>380478</td>\n",
       "      <td>6044973</td>\n",
       "      <td>Fri Jun 22 07:14:00 IST 2018</td>\n",
       "      <td>459186</td>\n",
       "      <td>UNION JACK FLAG LUGGAGE TAG</td>\n",
       "      <td>3</td>\n",
       "      <td>1.730</td>\n",
       "      <td>United Kingdom</td>\n",
       "    </tr>\n",
       "    <tr>\n",
       "      <th>4</th>\n",
       "      <td>-1</td>\n",
       "      <td>6143225</td>\n",
       "      <td>Mon Sep 10 11:58:00 IST 2018</td>\n",
       "      <td>1733592</td>\n",
       "      <td>WASHROOM METAL SIGN</td>\n",
       "      <td>3</td>\n",
       "      <td>3.400</td>\n",
       "      <td>United Kingdom</td>\n",
       "    </tr>\n",
       "  </tbody>\n",
       "</table>\n",
       "</div>"
      ],
      "text/plain": [
       "   UserId  TransactionId               TransactionTime  ItemCode  \\\n",
       "0  278166        6355745  Sat Feb 02 12:50:00 IST 2019    465549   \n",
       "1  337701        6283376  Wed Dec 26 09:06:00 IST 2018    482370   \n",
       "2  267099        6385599  Fri Feb 15 09:45:00 IST 2019    490728   \n",
       "3  380478        6044973  Fri Jun 22 07:14:00 IST 2018    459186   \n",
       "4      -1        6143225  Mon Sep 10 11:58:00 IST 2018   1733592   \n",
       "\n",
       "                     ItemDescription  NumberOfItemsPurchased  CostPerItem  \\\n",
       "0   FAMILY ALBUM WHITE PICTURE FRAME                       6       11.730   \n",
       "1              LONDON BUS COFFEE MUG                       3        3.520   \n",
       "2  SET 12 COLOUR PENCILS DOLLY GIRL                       72        0.900   \n",
       "3        UNION JACK FLAG LUGGAGE TAG                       3        1.730   \n",
       "4                WASHROOM METAL SIGN                       3        3.400   \n",
       "\n",
       "          Country  \n",
       "0  United Kingdom  \n",
       "1  United Kingdom  \n",
       "2          France  \n",
       "3  United Kingdom  \n",
       "4  United Kingdom  "
      ]
     },
     "execution_count": 4,
     "metadata": {},
     "output_type": "execute_result"
    }
   ],
   "source": [
    "df.head()"
   ]
  },
  {
   "cell_type": "code",
   "execution_count": 5,
   "metadata": {},
   "outputs": [
    {
     "name": "stdout",
     "output_type": "stream",
     "text": [
      "<class 'pandas.core.frame.DataFrame'>\n",
      "RangeIndex: 1083818 entries, 0 to 1083817\n",
      "Data columns (total 8 columns):\n",
      " #   Column                  Non-Null Count    Dtype  \n",
      "---  ------                  --------------    -----  \n",
      " 0   UserId                  1083818 non-null  int64  \n",
      " 1   TransactionId           1083818 non-null  int64  \n",
      " 2   TransactionTime         1083818 non-null  object \n",
      " 3   ItemCode                1083818 non-null  int64  \n",
      " 4   ItemDescription         1080910 non-null  object \n",
      " 5   NumberOfItemsPurchased  1083818 non-null  int64  \n",
      " 6   CostPerItem             1083818 non-null  float64\n",
      " 7   Country                 1083818 non-null  object \n",
      "dtypes: float64(1), int64(4), object(3)\n",
      "memory usage: 66.2+ MB\n"
     ]
    }
   ],
   "source": [
    "df.info()"
   ]
  },
  {
   "cell_type": "code",
   "execution_count": 6,
   "metadata": {},
   "outputs": [
    {
     "data": {
      "text/plain": [
       "ItemDescription           2908\n",
       "Country                      0\n",
       "CostPerItem                  0\n",
       "NumberOfItemsPurchased       0\n",
       "ItemCode                     0\n",
       "TransactionTime              0\n",
       "TransactionId                0\n",
       "UserId                       0\n",
       "dtype: int64"
      ]
     },
     "execution_count": 6,
     "metadata": {},
     "output_type": "execute_result"
    }
   ],
   "source": [
    "# check missing values for each column \n",
    "df.isnull().sum().sort_values(ascending=False)"
   ]
  },
  {
   "cell_type": "code",
   "execution_count": 7,
   "metadata": {},
   "outputs": [
    {
     "data": {
      "text/html": [
       "<div>\n",
       "<style scoped>\n",
       "    .dataframe tbody tr th:only-of-type {\n",
       "        vertical-align: middle;\n",
       "    }\n",
       "\n",
       "    .dataframe tbody tr th {\n",
       "        vertical-align: top;\n",
       "    }\n",
       "\n",
       "    .dataframe thead th {\n",
       "        text-align: right;\n",
       "    }\n",
       "</style>\n",
       "<table border=\"1\" class=\"dataframe\">\n",
       "  <thead>\n",
       "    <tr style=\"text-align: right;\">\n",
       "      <th></th>\n",
       "      <th>UserId</th>\n",
       "      <th>TransactionId</th>\n",
       "      <th>TransactionTime</th>\n",
       "      <th>ItemCode</th>\n",
       "      <th>ItemDescription</th>\n",
       "      <th>NumberOfItemsPurchased</th>\n",
       "      <th>CostPerItem</th>\n",
       "      <th>Country</th>\n",
       "    </tr>\n",
       "  </thead>\n",
       "  <tbody>\n",
       "    <tr>\n",
       "      <th>322</th>\n",
       "      <td>-1</td>\n",
       "      <td>6314803</td>\n",
       "      <td>Mon Jan 14 11:15:00 IST 2019</td>\n",
       "      <td>495159</td>\n",
       "      <td>NaN</td>\n",
       "      <td>9</td>\n",
       "      <td>0.000</td>\n",
       "      <td>United Kingdom</td>\n",
       "    </tr>\n",
       "    <tr>\n",
       "      <th>762</th>\n",
       "      <td>-1</td>\n",
       "      <td>6206420</td>\n",
       "      <td>Mon Nov 05 05:34:00 IST 2018</td>\n",
       "      <td>434364</td>\n",
       "      <td>NaN</td>\n",
       "      <td>3</td>\n",
       "      <td>0.000</td>\n",
       "      <td>United Kingdom</td>\n",
       "    </tr>\n",
       "    <tr>\n",
       "      <th>1080</th>\n",
       "      <td>-1</td>\n",
       "      <td>6297863</td>\n",
       "      <td>Sat Jan 05 12:06:00 IST 2019</td>\n",
       "      <td>1782417</td>\n",
       "      <td>NaN</td>\n",
       "      <td>-3</td>\n",
       "      <td>0.000</td>\n",
       "      <td>United Kingdom</td>\n",
       "    </tr>\n",
       "    <tr>\n",
       "      <th>2204</th>\n",
       "      <td>-1</td>\n",
       "      <td>6142961</td>\n",
       "      <td>Mon Sep 10 09:41:00 IST 2018</td>\n",
       "      <td>458157</td>\n",
       "      <td>NaN</td>\n",
       "      <td>-240</td>\n",
       "      <td>0.000</td>\n",
       "      <td>United Kingdom</td>\n",
       "    </tr>\n",
       "    <tr>\n",
       "      <th>2210</th>\n",
       "      <td>-1</td>\n",
       "      <td>6176445</td>\n",
       "      <td>Mon Oct 08 10:06:00 IST 2018</td>\n",
       "      <td>1666056</td>\n",
       "      <td>NaN</td>\n",
       "      <td>108</td>\n",
       "      <td>0.000</td>\n",
       "      <td>United Kingdom</td>\n",
       "    </tr>\n",
       "  </tbody>\n",
       "</table>\n",
       "</div>"
      ],
      "text/plain": [
       "      UserId  TransactionId               TransactionTime  ItemCode  \\\n",
       "322       -1        6314803  Mon Jan 14 11:15:00 IST 2019    495159   \n",
       "762       -1        6206420  Mon Nov 05 05:34:00 IST 2018    434364   \n",
       "1080      -1        6297863  Sat Jan 05 12:06:00 IST 2019   1782417   \n",
       "2204      -1        6142961  Mon Sep 10 09:41:00 IST 2018    458157   \n",
       "2210      -1        6176445  Mon Oct 08 10:06:00 IST 2018   1666056   \n",
       "\n",
       "     ItemDescription  NumberOfItemsPurchased  CostPerItem         Country  \n",
       "322              NaN                       9        0.000  United Kingdom  \n",
       "762              NaN                       3        0.000  United Kingdom  \n",
       "1080             NaN                      -3        0.000  United Kingdom  \n",
       "2204             NaN                    -240        0.000  United Kingdom  \n",
       "2210             NaN                     108        0.000  United Kingdom  "
      ]
     },
     "execution_count": 7,
     "metadata": {},
     "output_type": "execute_result"
    }
   ],
   "source": [
    "# check out the rows with missing values\n",
    "df[df.isnull().any(axis=1)].head()"
   ]
  },
  {
   "cell_type": "code",
   "execution_count": 8,
   "metadata": {},
   "outputs": [],
   "source": [
    "# remove duplicates\n",
    "df.drop_duplicates(inplace = True)"
   ]
  },
  {
   "cell_type": "code",
   "execution_count": 9,
   "metadata": {},
   "outputs": [],
   "source": [
    "df['TransactionTime'] = df['TransactionTime'].str.replace('IST', '')\n",
    "\n",
    "# change the invoice_date format - String to Timestamp format\n",
    "df['TransactionTime'] = pd.to_datetime(df.TransactionTime, format='%a %b %d %H:%M:%S %Y')"
   ]
  },
  {
   "cell_type": "code",
   "execution_count": 10,
   "metadata": {},
   "outputs": [],
   "source": [
    "# change description - UPPER case to LOWER case\n",
    "df['ItemDescription'] = df.ItemDescription.str.lower()"
   ]
  },
  {
   "cell_type": "code",
   "execution_count": 11,
   "metadata": {},
   "outputs": [
    {
     "data": {
      "text/html": [
       "<div>\n",
       "<style scoped>\n",
       "    .dataframe tbody tr th:only-of-type {\n",
       "        vertical-align: middle;\n",
       "    }\n",
       "\n",
       "    .dataframe tbody tr th {\n",
       "        vertical-align: top;\n",
       "    }\n",
       "\n",
       "    .dataframe thead th {\n",
       "        text-align: right;\n",
       "    }\n",
       "</style>\n",
       "<table border=\"1\" class=\"dataframe\">\n",
       "  <thead>\n",
       "    <tr style=\"text-align: right;\">\n",
       "      <th></th>\n",
       "      <th>UserId</th>\n",
       "      <th>TransactionId</th>\n",
       "      <th>TransactionTime</th>\n",
       "      <th>ItemCode</th>\n",
       "      <th>ItemDescription</th>\n",
       "      <th>NumberOfItemsPurchased</th>\n",
       "      <th>CostPerItem</th>\n",
       "      <th>Country</th>\n",
       "    </tr>\n",
       "  </thead>\n",
       "  <tbody>\n",
       "    <tr>\n",
       "      <th>0</th>\n",
       "      <td>278166</td>\n",
       "      <td>6355745</td>\n",
       "      <td>2019-02-02 12:50:00</td>\n",
       "      <td>465549</td>\n",
       "      <td>family album white picture frame</td>\n",
       "      <td>6</td>\n",
       "      <td>11.730</td>\n",
       "      <td>United Kingdom</td>\n",
       "    </tr>\n",
       "    <tr>\n",
       "      <th>1</th>\n",
       "      <td>337701</td>\n",
       "      <td>6283376</td>\n",
       "      <td>2018-12-26 09:06:00</td>\n",
       "      <td>482370</td>\n",
       "      <td>london bus coffee mug</td>\n",
       "      <td>3</td>\n",
       "      <td>3.520</td>\n",
       "      <td>United Kingdom</td>\n",
       "    </tr>\n",
       "    <tr>\n",
       "      <th>2</th>\n",
       "      <td>267099</td>\n",
       "      <td>6385599</td>\n",
       "      <td>2019-02-15 09:45:00</td>\n",
       "      <td>490728</td>\n",
       "      <td>set 12 colour pencils dolly girl</td>\n",
       "      <td>72</td>\n",
       "      <td>0.900</td>\n",
       "      <td>France</td>\n",
       "    </tr>\n",
       "    <tr>\n",
       "      <th>3</th>\n",
       "      <td>380478</td>\n",
       "      <td>6044973</td>\n",
       "      <td>2018-06-22 07:14:00</td>\n",
       "      <td>459186</td>\n",
       "      <td>union jack flag luggage tag</td>\n",
       "      <td>3</td>\n",
       "      <td>1.730</td>\n",
       "      <td>United Kingdom</td>\n",
       "    </tr>\n",
       "    <tr>\n",
       "      <th>4</th>\n",
       "      <td>-1</td>\n",
       "      <td>6143225</td>\n",
       "      <td>2018-09-10 11:58:00</td>\n",
       "      <td>1733592</td>\n",
       "      <td>washroom metal sign</td>\n",
       "      <td>3</td>\n",
       "      <td>3.400</td>\n",
       "      <td>United Kingdom</td>\n",
       "    </tr>\n",
       "  </tbody>\n",
       "</table>\n",
       "</div>"
      ],
      "text/plain": [
       "   UserId  TransactionId     TransactionTime  ItemCode  \\\n",
       "0  278166        6355745 2019-02-02 12:50:00    465549   \n",
       "1  337701        6283376 2018-12-26 09:06:00    482370   \n",
       "2  267099        6385599 2019-02-15 09:45:00    490728   \n",
       "3  380478        6044973 2018-06-22 07:14:00    459186   \n",
       "4      -1        6143225 2018-09-10 11:58:00   1733592   \n",
       "\n",
       "                     ItemDescription  NumberOfItemsPurchased  CostPerItem  \\\n",
       "0   family album white picture frame                       6       11.730   \n",
       "1              london bus coffee mug                       3        3.520   \n",
       "2  set 12 colour pencils dolly girl                       72        0.900   \n",
       "3        union jack flag luggage tag                       3        1.730   \n",
       "4                washroom metal sign                       3        3.400   \n",
       "\n",
       "          Country  \n",
       "0  United Kingdom  \n",
       "1  United Kingdom  \n",
       "2          France  \n",
       "3  United Kingdom  \n",
       "4  United Kingdom  "
      ]
     },
     "execution_count": 11,
     "metadata": {},
     "output_type": "execute_result"
    }
   ],
   "source": [
    "df.head()"
   ]
  },
  {
   "cell_type": "code",
   "execution_count": 12,
   "metadata": {},
   "outputs": [],
   "source": [
    "#Removing rows with missing values\n",
    "# df_new without missing values\n",
    "df_new = df.dropna()"
   ]
  },
  {
   "cell_type": "code",
   "execution_count": 13,
   "metadata": {},
   "outputs": [
    {
     "data": {
      "text/plain": [
       "Country                   0\n",
       "CostPerItem               0\n",
       "NumberOfItemsPurchased    0\n",
       "ItemDescription           0\n",
       "ItemCode                  0\n",
       "TransactionTime           0\n",
       "TransactionId             0\n",
       "UserId                    0\n",
       "dtype: int64"
      ]
     },
     "execution_count": 13,
     "metadata": {},
     "output_type": "execute_result"
    }
   ],
   "source": [
    "# check missing values for each column \n",
    "df_new.isnull().sum().sort_values(ascending=False)"
   ]
  },
  {
   "cell_type": "code",
   "execution_count": 14,
   "metadata": {},
   "outputs": [
    {
     "name": "stdout",
     "output_type": "stream",
     "text": [
      "<class 'pandas.core.frame.DataFrame'>\n",
      "Int64Index: 535118 entries, 0 to 1081501\n",
      "Data columns (total 8 columns):\n",
      " #   Column                  Non-Null Count   Dtype         \n",
      "---  ------                  --------------   -----         \n",
      " 0   UserId                  535118 non-null  int64         \n",
      " 1   TransactionId           535118 non-null  int64         \n",
      " 2   TransactionTime         535118 non-null  datetime64[ns]\n",
      " 3   ItemCode                535118 non-null  int64         \n",
      " 4   ItemDescription         535118 non-null  object        \n",
      " 5   NumberOfItemsPurchased  535118 non-null  int64         \n",
      " 6   CostPerItem             535118 non-null  float64       \n",
      " 7   Country                 535118 non-null  object        \n",
      "dtypes: datetime64[ns](1), float64(1), int64(4), object(2)\n",
      "memory usage: 36.7+ MB\n"
     ]
    }
   ],
   "source": [
    "df_new.info()"
   ]
  },
  {
   "cell_type": "code",
   "execution_count": 15,
   "metadata": {},
   "outputs": [
    {
     "data": {
      "text/html": [
       "<div>\n",
       "<style scoped>\n",
       "    .dataframe tbody tr th:only-of-type {\n",
       "        vertical-align: middle;\n",
       "    }\n",
       "\n",
       "    .dataframe tbody tr th {\n",
       "        vertical-align: top;\n",
       "    }\n",
       "\n",
       "    .dataframe thead th {\n",
       "        text-align: right;\n",
       "    }\n",
       "</style>\n",
       "<table border=\"1\" class=\"dataframe\">\n",
       "  <thead>\n",
       "    <tr style=\"text-align: right;\">\n",
       "      <th></th>\n",
       "      <th>UserId</th>\n",
       "      <th>TransactionId</th>\n",
       "      <th>ItemCode</th>\n",
       "      <th>NumberOfItemsPurchased</th>\n",
       "      <th>CostPerItem</th>\n",
       "    </tr>\n",
       "  </thead>\n",
       "  <tbody>\n",
       "    <tr>\n",
       "      <th>count</th>\n",
       "      <td>535118.000</td>\n",
       "      <td>535118.000</td>\n",
       "      <td>535118.000</td>\n",
       "      <td>535118.000</td>\n",
       "      <td>535118.000</td>\n",
       "    </tr>\n",
       "    <tr>\n",
       "      <th>mean</th>\n",
       "      <td>240816.020</td>\n",
       "      <td>6159311.720</td>\n",
       "      <td>657636.410</td>\n",
       "      <td>29.020</td>\n",
       "      <td>9.590</td>\n",
       "    </tr>\n",
       "    <tr>\n",
       "      <th>std</th>\n",
       "      <td>142333.530</td>\n",
       "      <td>147531.800</td>\n",
       "      <td>452082.370</td>\n",
       "      <td>657.220</td>\n",
       "      <td>2322.740</td>\n",
       "    </tr>\n",
       "    <tr>\n",
       "      <th>min</th>\n",
       "      <td>-1.000</td>\n",
       "      <td>5900015.000</td>\n",
       "      <td>-1.000</td>\n",
       "      <td>-242985.000</td>\n",
       "      <td>-15265.640</td>\n",
       "    </tr>\n",
       "    <tr>\n",
       "      <th>25%</th>\n",
       "      <td>259329.000</td>\n",
       "      <td>6026856.000</td>\n",
       "      <td>460929.000</td>\n",
       "      <td>3.000</td>\n",
       "      <td>1.730</td>\n",
       "    </tr>\n",
       "    <tr>\n",
       "      <th>50%</th>\n",
       "      <td>301560.000</td>\n",
       "      <td>6166490.000</td>\n",
       "      <td>475293.000</td>\n",
       "      <td>9.000</td>\n",
       "      <td>2.880</td>\n",
       "    </tr>\n",
       "    <tr>\n",
       "      <th>75%</th>\n",
       "      <td>341082.000</td>\n",
       "      <td>6288975.000</td>\n",
       "      <td>488901.000</td>\n",
       "      <td>30.000</td>\n",
       "      <td>5.700</td>\n",
       "    </tr>\n",
       "    <tr>\n",
       "      <th>max</th>\n",
       "      <td>384027.000</td>\n",
       "      <td>6397457.000</td>\n",
       "      <td>1894494.000</td>\n",
       "      <td>242985.000</td>\n",
       "      <td>1696285.440</td>\n",
       "    </tr>\n",
       "  </tbody>\n",
       "</table>\n",
       "</div>"
      ],
      "text/plain": [
       "          UserId  TransactionId    ItemCode  NumberOfItemsPurchased  \\\n",
       "count 535118.000     535118.000  535118.000              535118.000   \n",
       "mean  240816.020    6159311.720  657636.410                  29.020   \n",
       "std   142333.530     147531.800  452082.370                 657.220   \n",
       "min       -1.000    5900015.000      -1.000             -242985.000   \n",
       "25%   259329.000    6026856.000  460929.000                   3.000   \n",
       "50%   301560.000    6166490.000  475293.000                   9.000   \n",
       "75%   341082.000    6288975.000  488901.000                  30.000   \n",
       "max   384027.000    6397457.000 1894494.000              242985.000   \n",
       "\n",
       "       CostPerItem  \n",
       "count   535118.000  \n",
       "mean         9.590  \n",
       "std       2322.740  \n",
       "min     -15265.640  \n",
       "25%          1.730  \n",
       "50%          2.880  \n",
       "75%          5.700  \n",
       "max    1696285.440  "
      ]
     },
     "execution_count": 15,
     "metadata": {},
     "output_type": "execute_result"
    }
   ],
   "source": [
    "df_new.describe().round(2)"
   ]
  },
  {
   "cell_type": "code",
   "execution_count": 16,
   "metadata": {},
   "outputs": [],
   "source": [
    "#Removing Number of Item Code, Items Purchased and Cost Per Item with negative values\n",
    "df_new = df_new[df_new.NumberOfItemsPurchased >= 0]\n",
    "df_new = df_new[df_new.CostPerItem >= 0]\n",
    "df_new = df_new[df_new.ItemCode >= 0]"
   ]
  },
  {
   "cell_type": "code",
   "execution_count": 17,
   "metadata": {},
   "outputs": [
    {
     "data": {
      "text/html": [
       "<div>\n",
       "<style scoped>\n",
       "    .dataframe tbody tr th:only-of-type {\n",
       "        vertical-align: middle;\n",
       "    }\n",
       "\n",
       "    .dataframe tbody tr th {\n",
       "        vertical-align: top;\n",
       "    }\n",
       "\n",
       "    .dataframe thead th {\n",
       "        text-align: right;\n",
       "    }\n",
       "</style>\n",
       "<table border=\"1\" class=\"dataframe\">\n",
       "  <thead>\n",
       "    <tr style=\"text-align: right;\">\n",
       "      <th></th>\n",
       "      <th>UserId</th>\n",
       "      <th>TransactionId</th>\n",
       "      <th>ItemCode</th>\n",
       "      <th>NumberOfItemsPurchased</th>\n",
       "      <th>CostPerItem</th>\n",
       "    </tr>\n",
       "  </thead>\n",
       "  <tbody>\n",
       "    <tr>\n",
       "      <th>count</th>\n",
       "      <td>523190.000</td>\n",
       "      <td>523190.000</td>\n",
       "      <td>523190.000</td>\n",
       "      <td>523190.000</td>\n",
       "      <td>523190.000</td>\n",
       "    </tr>\n",
       "    <tr>\n",
       "      <th>mean</th>\n",
       "      <td>240211.492</td>\n",
       "      <td>6159536.173</td>\n",
       "      <td>660984.548</td>\n",
       "      <td>32.118</td>\n",
       "      <td>7.780</td>\n",
       "    </tr>\n",
       "    <tr>\n",
       "      <th>std</th>\n",
       "      <td>142888.049</td>\n",
       "      <td>147639.931</td>\n",
       "      <td>450743.377</td>\n",
       "      <td>473.118</td>\n",
       "      <td>2345.144</td>\n",
       "    </tr>\n",
       "    <tr>\n",
       "      <th>min</th>\n",
       "      <td>-1.000</td>\n",
       "      <td>5900015.000</td>\n",
       "      <td>42.000</td>\n",
       "      <td>3.000</td>\n",
       "      <td>0.000</td>\n",
       "    </tr>\n",
       "    <tr>\n",
       "      <th>25%</th>\n",
       "      <td>-1.000</td>\n",
       "      <td>6026933.000</td>\n",
       "      <td>461496.000</td>\n",
       "      <td>3.000</td>\n",
       "      <td>1.730</td>\n",
       "    </tr>\n",
       "    <tr>\n",
       "      <th>50%</th>\n",
       "      <td>301707.000</td>\n",
       "      <td>6167150.000</td>\n",
       "      <td>475356.000</td>\n",
       "      <td>12.000</td>\n",
       "      <td>2.880</td>\n",
       "    </tr>\n",
       "    <tr>\n",
       "      <th>75%</th>\n",
       "      <td>341355.000</td>\n",
       "      <td>6289767.000</td>\n",
       "      <td>488964.000</td>\n",
       "      <td>36.000</td>\n",
       "      <td>5.700</td>\n",
       "    </tr>\n",
       "    <tr>\n",
       "      <th>max</th>\n",
       "      <td>384027.000</td>\n",
       "      <td>6397457.000</td>\n",
       "      <td>1894494.000</td>\n",
       "      <td>242985.000</td>\n",
       "      <td>1696285.440</td>\n",
       "    </tr>\n",
       "  </tbody>\n",
       "</table>\n",
       "</div>"
      ],
      "text/plain": [
       "          UserId  TransactionId    ItemCode  NumberOfItemsPurchased  \\\n",
       "count 523190.000     523190.000  523190.000              523190.000   \n",
       "mean  240211.492    6159536.173  660984.548                  32.118   \n",
       "std   142888.049     147639.931  450743.377                 473.118   \n",
       "min       -1.000    5900015.000      42.000                   3.000   \n",
       "25%       -1.000    6026933.000  461496.000                   3.000   \n",
       "50%   301707.000    6167150.000  475356.000                  12.000   \n",
       "75%   341355.000    6289767.000  488964.000                  36.000   \n",
       "max   384027.000    6397457.000 1894494.000              242985.000   \n",
       "\n",
       "       CostPerItem  \n",
       "count   523190.000  \n",
       "mean         7.780  \n",
       "std       2345.144  \n",
       "min          0.000  \n",
       "25%          1.730  \n",
       "50%          2.880  \n",
       "75%          5.700  \n",
       "max    1696285.440  "
      ]
     },
     "execution_count": 17,
     "metadata": {},
     "output_type": "execute_result"
    }
   ],
   "source": [
    "df_new.describe()"
   ]
  },
  {
   "cell_type": "code",
   "execution_count": 18,
   "metadata": {},
   "outputs": [],
   "source": [
    "#Add the column amount_spent\n",
    "df_new['AmountSpent'] = df_new['NumberOfItemsPurchased'] * df_new['CostPerItem']"
   ]
  },
  {
   "cell_type": "code",
   "execution_count": 19,
   "metadata": {},
   "outputs": [],
   "source": [
    "# rearrange all the columns for easy reference\n",
    "df_new = df_new[['TransactionId','TransactionTime','ItemCode','ItemDescription','NumberOfItemsPurchased','CostPerItem','AmountSpent','UserId','Country']]"
   ]
  },
  {
   "cell_type": "code",
   "execution_count": 20,
   "metadata": {},
   "outputs": [],
   "source": [
    "# Add the columns - Month, Day and Hour for the Transaction Time\n",
    "\n",
    "df_new.insert(loc=2, column='Year_Month', value=df_new['TransactionTime'].map(lambda x: 100*x.year + x.month))\n",
    "df_new.insert(loc=3, column='Month', value=df_new.TransactionTime.dt.month)\n",
    "# +1 to make Monday=1.....until Sunday=7\n",
    "df_new.insert(loc=4, column='Day', value=(df_new.TransactionTime.dt.dayofweek)+1)\n",
    "df_new.insert(loc=5, column='Hour', value=df_new.TransactionTime.dt.hour)"
   ]
  },
  {
   "cell_type": "code",
   "execution_count": 21,
   "metadata": {},
   "outputs": [
    {
     "data": {
      "text/html": [
       "<div>\n",
       "<style scoped>\n",
       "    .dataframe tbody tr th:only-of-type {\n",
       "        vertical-align: middle;\n",
       "    }\n",
       "\n",
       "    .dataframe tbody tr th {\n",
       "        vertical-align: top;\n",
       "    }\n",
       "\n",
       "    .dataframe thead th {\n",
       "        text-align: right;\n",
       "    }\n",
       "</style>\n",
       "<table border=\"1\" class=\"dataframe\">\n",
       "  <thead>\n",
       "    <tr style=\"text-align: right;\">\n",
       "      <th></th>\n",
       "      <th>TransactionId</th>\n",
       "      <th>TransactionTime</th>\n",
       "      <th>Year_Month</th>\n",
       "      <th>Month</th>\n",
       "      <th>Day</th>\n",
       "      <th>Hour</th>\n",
       "      <th>ItemCode</th>\n",
       "      <th>ItemDescription</th>\n",
       "      <th>NumberOfItemsPurchased</th>\n",
       "      <th>CostPerItem</th>\n",
       "      <th>AmountSpent</th>\n",
       "      <th>UserId</th>\n",
       "      <th>Country</th>\n",
       "    </tr>\n",
       "  </thead>\n",
       "  <tbody>\n",
       "    <tr>\n",
       "      <th>0</th>\n",
       "      <td>6355745</td>\n",
       "      <td>2019-02-02 12:50:00</td>\n",
       "      <td>201902</td>\n",
       "      <td>2</td>\n",
       "      <td>6</td>\n",
       "      <td>12</td>\n",
       "      <td>465549</td>\n",
       "      <td>family album white picture frame</td>\n",
       "      <td>6</td>\n",
       "      <td>11.730</td>\n",
       "      <td>70.380</td>\n",
       "      <td>278166</td>\n",
       "      <td>United Kingdom</td>\n",
       "    </tr>\n",
       "    <tr>\n",
       "      <th>1</th>\n",
       "      <td>6283376</td>\n",
       "      <td>2018-12-26 09:06:00</td>\n",
       "      <td>201812</td>\n",
       "      <td>12</td>\n",
       "      <td>3</td>\n",
       "      <td>9</td>\n",
       "      <td>482370</td>\n",
       "      <td>london bus coffee mug</td>\n",
       "      <td>3</td>\n",
       "      <td>3.520</td>\n",
       "      <td>10.560</td>\n",
       "      <td>337701</td>\n",
       "      <td>United Kingdom</td>\n",
       "    </tr>\n",
       "    <tr>\n",
       "      <th>2</th>\n",
       "      <td>6385599</td>\n",
       "      <td>2019-02-15 09:45:00</td>\n",
       "      <td>201902</td>\n",
       "      <td>2</td>\n",
       "      <td>5</td>\n",
       "      <td>9</td>\n",
       "      <td>490728</td>\n",
       "      <td>set 12 colour pencils dolly girl</td>\n",
       "      <td>72</td>\n",
       "      <td>0.900</td>\n",
       "      <td>64.800</td>\n",
       "      <td>267099</td>\n",
       "      <td>France</td>\n",
       "    </tr>\n",
       "    <tr>\n",
       "      <th>3</th>\n",
       "      <td>6044973</td>\n",
       "      <td>2018-06-22 07:14:00</td>\n",
       "      <td>201806</td>\n",
       "      <td>6</td>\n",
       "      <td>5</td>\n",
       "      <td>7</td>\n",
       "      <td>459186</td>\n",
       "      <td>union jack flag luggage tag</td>\n",
       "      <td>3</td>\n",
       "      <td>1.730</td>\n",
       "      <td>5.190</td>\n",
       "      <td>380478</td>\n",
       "      <td>United Kingdom</td>\n",
       "    </tr>\n",
       "    <tr>\n",
       "      <th>4</th>\n",
       "      <td>6143225</td>\n",
       "      <td>2018-09-10 11:58:00</td>\n",
       "      <td>201809</td>\n",
       "      <td>9</td>\n",
       "      <td>1</td>\n",
       "      <td>11</td>\n",
       "      <td>1733592</td>\n",
       "      <td>washroom metal sign</td>\n",
       "      <td>3</td>\n",
       "      <td>3.400</td>\n",
       "      <td>10.200</td>\n",
       "      <td>-1</td>\n",
       "      <td>United Kingdom</td>\n",
       "    </tr>\n",
       "  </tbody>\n",
       "</table>\n",
       "</div>"
      ],
      "text/plain": [
       "   TransactionId     TransactionTime  Year_Month  Month  Day  Hour  ItemCode  \\\n",
       "0        6355745 2019-02-02 12:50:00      201902      2    6    12    465549   \n",
       "1        6283376 2018-12-26 09:06:00      201812     12    3     9    482370   \n",
       "2        6385599 2019-02-15 09:45:00      201902      2    5     9    490728   \n",
       "3        6044973 2018-06-22 07:14:00      201806      6    5     7    459186   \n",
       "4        6143225 2018-09-10 11:58:00      201809      9    1    11   1733592   \n",
       "\n",
       "                     ItemDescription  NumberOfItemsPurchased  CostPerItem  \\\n",
       "0   family album white picture frame                       6       11.730   \n",
       "1              london bus coffee mug                       3        3.520   \n",
       "2  set 12 colour pencils dolly girl                       72        0.900   \n",
       "3        union jack flag luggage tag                       3        1.730   \n",
       "4                washroom metal sign                       3        3.400   \n",
       "\n",
       "   AmountSpent  UserId         Country  \n",
       "0       70.380  278166  United Kingdom  \n",
       "1       10.560  337701  United Kingdom  \n",
       "2       64.800  267099          France  \n",
       "3        5.190  380478  United Kingdom  \n",
       "4       10.200      -1  United Kingdom  "
      ]
     },
     "execution_count": 21,
     "metadata": {},
     "output_type": "execute_result"
    }
   ],
   "source": [
    "df_new.head()"
   ]
  },
  {
   "cell_type": "code",
   "execution_count": 22,
   "metadata": {},
   "outputs": [
    {
     "data": {
      "text/html": [
       "<div>\n",
       "<style scoped>\n",
       "    .dataframe tbody tr th:only-of-type {\n",
       "        vertical-align: middle;\n",
       "    }\n",
       "\n",
       "    .dataframe tbody tr th {\n",
       "        vertical-align: top;\n",
       "    }\n",
       "\n",
       "    .dataframe thead th {\n",
       "        text-align: right;\n",
       "    }\n",
       "</style>\n",
       "<table border=\"1\" class=\"dataframe\">\n",
       "  <thead>\n",
       "    <tr style=\"text-align: right;\">\n",
       "      <th></th>\n",
       "      <th>UserId</th>\n",
       "      <th>Country</th>\n",
       "      <th>TransactionId</th>\n",
       "    </tr>\n",
       "  </thead>\n",
       "  <tbody>\n",
       "    <tr>\n",
       "      <th>0</th>\n",
       "      <td>-1</td>\n",
       "      <td>Bahrain</td>\n",
       "      <td>1</td>\n",
       "    </tr>\n",
       "    <tr>\n",
       "      <th>1</th>\n",
       "      <td>-1</td>\n",
       "      <td>EIRE</td>\n",
       "      <td>652</td>\n",
       "    </tr>\n",
       "    <tr>\n",
       "      <th>2</th>\n",
       "      <td>-1</td>\n",
       "      <td>France</td>\n",
       "      <td>66</td>\n",
       "    </tr>\n",
       "    <tr>\n",
       "      <th>3</th>\n",
       "      <td>-1</td>\n",
       "      <td>Hong Kong</td>\n",
       "      <td>275</td>\n",
       "    </tr>\n",
       "    <tr>\n",
       "      <th>4</th>\n",
       "      <td>-1</td>\n",
       "      <td>Israel</td>\n",
       "      <td>47</td>\n",
       "    </tr>\n",
       "  </tbody>\n",
       "</table>\n",
       "</div>"
      ],
      "text/plain": [
       "   UserId    Country  TransactionId\n",
       "0      -1    Bahrain              1\n",
       "1      -1       EIRE            652\n",
       "2      -1     France             66\n",
       "3      -1  Hong Kong            275\n",
       "4      -1     Israel             47"
      ]
     },
     "execution_count": 22,
     "metadata": {},
     "output_type": "execute_result"
    }
   ],
   "source": [
    "# How many orders made by the customers?\n",
    "\n",
    "df_new.groupby(by=['UserId','Country'], as_index=False)['TransactionId'].count().head()"
   ]
  },
  {
   "cell_type": "code",
   "execution_count": 23,
   "metadata": {},
   "outputs": [
    {
     "name": "stdout",
     "output_type": "stream",
     "text": [
      "Number of Rows in User Id that have value -1 :  131908\n"
     ]
    }
   ],
   "source": [
    "rows = df_new.apply(lambda df_new: True if df_new['UserId'] == -1 else False , axis=1)\n",
    "count = len(rows[rows == True].index)\n",
    "\n",
    "print('Number of Rows in User Id that have value -1 : ', count)"
   ]
  },
  {
   "cell_type": "code",
   "execution_count": 24,
   "metadata": {},
   "outputs": [],
   "source": [
    "df_new = df_new[df_new['UserId'] != -1]"
   ]
  },
  {
   "cell_type": "code",
   "execution_count": 25,
   "metadata": {},
   "outputs": [
    {
     "name": "stdout",
     "output_type": "stream",
     "text": [
      "Number of Rows in User Id that have value -1 :  0\n"
     ]
    }
   ],
   "source": [
    "rows = df_new.apply(lambda df_new: True if df_new['UserId'] == -1 else False , axis=1)\n",
    "count = len(rows[rows == True].index)\n",
    "\n",
    "print('Number of Rows in User Id that have value -1 : ', count)"
   ]
  },
  {
   "cell_type": "code",
   "execution_count": 26,
   "metadata": {},
   "outputs": [
    {
     "data": {
      "text/html": [
       "<div>\n",
       "<style scoped>\n",
       "    .dataframe tbody tr th:only-of-type {\n",
       "        vertical-align: middle;\n",
       "    }\n",
       "\n",
       "    .dataframe tbody tr th {\n",
       "        vertical-align: top;\n",
       "    }\n",
       "\n",
       "    .dataframe thead th {\n",
       "        text-align: right;\n",
       "    }\n",
       "</style>\n",
       "<table border=\"1\" class=\"dataframe\">\n",
       "  <thead>\n",
       "    <tr style=\"text-align: right;\">\n",
       "      <th></th>\n",
       "      <th>UserId</th>\n",
       "      <th>Country</th>\n",
       "      <th>TransactionId</th>\n",
       "    </tr>\n",
       "  </thead>\n",
       "  <tbody>\n",
       "    <tr>\n",
       "      <th>0</th>\n",
       "      <td>259266</td>\n",
       "      <td>United Kingdom</td>\n",
       "      <td>1</td>\n",
       "    </tr>\n",
       "    <tr>\n",
       "      <th>1</th>\n",
       "      <td>259287</td>\n",
       "      <td>Iceland</td>\n",
       "      <td>182</td>\n",
       "    </tr>\n",
       "    <tr>\n",
       "      <th>2</th>\n",
       "      <td>259308</td>\n",
       "      <td>Finland</td>\n",
       "      <td>27</td>\n",
       "    </tr>\n",
       "    <tr>\n",
       "      <th>3</th>\n",
       "      <td>259329</td>\n",
       "      <td>Italy</td>\n",
       "      <td>72</td>\n",
       "    </tr>\n",
       "    <tr>\n",
       "      <th>4</th>\n",
       "      <td>259350</td>\n",
       "      <td>Norway</td>\n",
       "      <td>16</td>\n",
       "    </tr>\n",
       "  </tbody>\n",
       "</table>\n",
       "</div>"
      ],
      "text/plain": [
       "   UserId         Country  TransactionId\n",
       "0  259266  United Kingdom              1\n",
       "1  259287         Iceland            182\n",
       "2  259308         Finland             27\n",
       "3  259329           Italy             72\n",
       "4  259350          Norway             16"
      ]
     },
     "execution_count": 26,
     "metadata": {},
     "output_type": "execute_result"
    }
   ],
   "source": [
    "# How many orders made by the customers?\n",
    "\n",
    "df_new.groupby(by=['UserId','Country'], as_index=False)['TransactionId'].count().head()"
   ]
  },
  {
   "cell_type": "code",
   "execution_count": 27,
   "metadata": {
    "scrolled": true
   },
   "outputs": [
    {
     "data": {
      "image/png": "[encoded data removed]",
      "text/plain": [
       "<Figure size 1080x432 with 1 Axes>"
      ]
     },
     "metadata": {
      "needs_background": "light"
     },
     "output_type": "display_data"
    }
   ],
   "source": [
    "orders = df_new.groupby(by=['UserId','Country'], as_index=False)['TransactionId'].count()\n",
    "\n",
    "plt.subplots(figsize=(15,6))\n",
    "plt.plot(orders.UserId, orders.TransactionId)\n",
    "plt.xlabel('Users ID')\n",
    "plt.ylabel('Number of Orders')\n",
    "plt.title('Number of Orders for different Users')\n",
    "plt.show()"
   ]
  },
  {
   "cell_type": "code",
   "execution_count": 28,
   "metadata": {},
   "outputs": [
    {
     "name": "stdout",
     "output_type": "stream",
     "text": [
      "The TOP 5 Users with most number of orders...\n"
     ]
    },
    {
     "data": {
      "text/html": [
       "<div>\n",
       "<style scoped>\n",
       "    .dataframe tbody tr th:only-of-type {\n",
       "        vertical-align: middle;\n",
       "    }\n",
       "\n",
       "    .dataframe tbody tr th {\n",
       "        vertical-align: top;\n",
       "    }\n",
       "\n",
       "    .dataframe thead th {\n",
       "        text-align: right;\n",
       "    }\n",
       "</style>\n",
       "<table border=\"1\" class=\"dataframe\">\n",
       "  <thead>\n",
       "    <tr style=\"text-align: right;\">\n",
       "      <th></th>\n",
       "      <th>UserId</th>\n",
       "      <th>Country</th>\n",
       "      <th>TransactionId</th>\n",
       "    </tr>\n",
       "  </thead>\n",
       "  <tbody>\n",
       "    <tr>\n",
       "      <th>4016</th>\n",
       "      <td>374661</td>\n",
       "      <td>United Kingdom</td>\n",
       "      <td>7665</td>\n",
       "    </tr>\n",
       "    <tr>\n",
       "      <th>1888</th>\n",
       "      <td>313131</td>\n",
       "      <td>EIRE</td>\n",
       "      <td>5670</td>\n",
       "    </tr>\n",
       "    <tr>\n",
       "      <th>1298</th>\n",
       "      <td>296016</td>\n",
       "      <td>United Kingdom</td>\n",
       "      <td>5095</td>\n",
       "    </tr>\n",
       "    <tr>\n",
       "      <th>334</th>\n",
       "      <td>267708</td>\n",
       "      <td>United Kingdom</td>\n",
       "      <td>4397</td>\n",
       "    </tr>\n",
       "    <tr>\n",
       "      <th>1670</th>\n",
       "      <td>306726</td>\n",
       "      <td>United Kingdom</td>\n",
       "      <td>2674</td>\n",
       "    </tr>\n",
       "  </tbody>\n",
       "</table>\n",
       "</div>"
      ],
      "text/plain": [
       "      UserId         Country  TransactionId\n",
       "4016  374661  United Kingdom           7665\n",
       "1888  313131            EIRE           5670\n",
       "1298  296016  United Kingdom           5095\n",
       "334   267708  United Kingdom           4397\n",
       "1670  306726  United Kingdom           2674"
      ]
     },
     "execution_count": 28,
     "metadata": {},
     "output_type": "execute_result"
    }
   ],
   "source": [
    "# Top 5\n",
    "print('The TOP 5 Users with most number of orders...')\n",
    "orders.sort_values(by='TransactionId', ascending=False).head()"
   ]
  },
  {
   "cell_type": "code",
   "execution_count": 29,
   "metadata": {},
   "outputs": [
    {
     "data": {
      "text/html": [
       "<div>\n",
       "<style scoped>\n",
       "    .dataframe tbody tr th:only-of-type {\n",
       "        vertical-align: middle;\n",
       "    }\n",
       "\n",
       "    .dataframe tbody tr th {\n",
       "        vertical-align: top;\n",
       "    }\n",
       "\n",
       "    .dataframe thead th {\n",
       "        text-align: right;\n",
       "    }\n",
       "</style>\n",
       "<table border=\"1\" class=\"dataframe\">\n",
       "  <thead>\n",
       "    <tr style=\"text-align: right;\">\n",
       "      <th></th>\n",
       "      <th>TransactionId</th>\n",
       "      <th>TransactionTime</th>\n",
       "      <th>Year_Month</th>\n",
       "      <th>Month</th>\n",
       "      <th>Day</th>\n",
       "      <th>Hour</th>\n",
       "      <th>ItemCode</th>\n",
       "      <th>ItemDescription</th>\n",
       "      <th>NumberOfItemsPurchased</th>\n",
       "      <th>CostPerItem</th>\n",
       "      <th>AmountSpent</th>\n",
       "      <th>UserId</th>\n",
       "      <th>Country</th>\n",
       "    </tr>\n",
       "  </thead>\n",
       "  <tbody>\n",
       "    <tr>\n",
       "      <th>0</th>\n",
       "      <td>6355745</td>\n",
       "      <td>2019-02-02 12:50:00</td>\n",
       "      <td>201902</td>\n",
       "      <td>2</td>\n",
       "      <td>6</td>\n",
       "      <td>12</td>\n",
       "      <td>465549</td>\n",
       "      <td>family album white picture frame</td>\n",
       "      <td>6</td>\n",
       "      <td>11.730</td>\n",
       "      <td>70.380</td>\n",
       "      <td>278166</td>\n",
       "      <td>United Kingdom</td>\n",
       "    </tr>\n",
       "    <tr>\n",
       "      <th>1</th>\n",
       "      <td>6283376</td>\n",
       "      <td>2018-12-26 09:06:00</td>\n",
       "      <td>201812</td>\n",
       "      <td>12</td>\n",
       "      <td>3</td>\n",
       "      <td>9</td>\n",
       "      <td>482370</td>\n",
       "      <td>london bus coffee mug</td>\n",
       "      <td>3</td>\n",
       "      <td>3.520</td>\n",
       "      <td>10.560</td>\n",
       "      <td>337701</td>\n",
       "      <td>United Kingdom</td>\n",
       "    </tr>\n",
       "    <tr>\n",
       "      <th>2</th>\n",
       "      <td>6385599</td>\n",
       "      <td>2019-02-15 09:45:00</td>\n",
       "      <td>201902</td>\n",
       "      <td>2</td>\n",
       "      <td>5</td>\n",
       "      <td>9</td>\n",
       "      <td>490728</td>\n",
       "      <td>set 12 colour pencils dolly girl</td>\n",
       "      <td>72</td>\n",
       "      <td>0.900</td>\n",
       "      <td>64.800</td>\n",
       "      <td>267099</td>\n",
       "      <td>France</td>\n",
       "    </tr>\n",
       "    <tr>\n",
       "      <th>3</th>\n",
       "      <td>6044973</td>\n",
       "      <td>2018-06-22 07:14:00</td>\n",
       "      <td>201806</td>\n",
       "      <td>6</td>\n",
       "      <td>5</td>\n",
       "      <td>7</td>\n",
       "      <td>459186</td>\n",
       "      <td>union jack flag luggage tag</td>\n",
       "      <td>3</td>\n",
       "      <td>1.730</td>\n",
       "      <td>5.190</td>\n",
       "      <td>380478</td>\n",
       "      <td>United Kingdom</td>\n",
       "    </tr>\n",
       "    <tr>\n",
       "      <th>5</th>\n",
       "      <td>6307136</td>\n",
       "      <td>2019-01-11 09:50:00</td>\n",
       "      <td>201901</td>\n",
       "      <td>1</td>\n",
       "      <td>5</td>\n",
       "      <td>9</td>\n",
       "      <td>1787247</td>\n",
       "      <td>cut glass t-light holder octagon</td>\n",
       "      <td>12</td>\n",
       "      <td>3.520</td>\n",
       "      <td>42.240</td>\n",
       "      <td>285957</td>\n",
       "      <td>United Kingdom</td>\n",
       "    </tr>\n",
       "  </tbody>\n",
       "</table>\n",
       "</div>"
      ],
      "text/plain": [
       "   TransactionId     TransactionTime  Year_Month  Month  Day  Hour  ItemCode  \\\n",
       "0        6355745 2019-02-02 12:50:00      201902      2    6    12    465549   \n",
       "1        6283376 2018-12-26 09:06:00      201812     12    3     9    482370   \n",
       "2        6385599 2019-02-15 09:45:00      201902      2    5     9    490728   \n",
       "3        6044973 2018-06-22 07:14:00      201806      6    5     7    459186   \n",
       "5        6307136 2019-01-11 09:50:00      201901      1    5     9   1787247   \n",
       "\n",
       "                     ItemDescription  NumberOfItemsPurchased  CostPerItem  \\\n",
       "0   family album white picture frame                       6       11.730   \n",
       "1              london bus coffee mug                       3        3.520   \n",
       "2  set 12 colour pencils dolly girl                       72        0.900   \n",
       "3        union jack flag luggage tag                       3        1.730   \n",
       "5   cut glass t-light holder octagon                      12        3.520   \n",
       "\n",
       "   AmountSpent  UserId         Country  \n",
       "0       70.380  278166  United Kingdom  \n",
       "1       10.560  337701  United Kingdom  \n",
       "2       64.800  267099          France  \n",
       "3        5.190  380478  United Kingdom  \n",
       "5       42.240  285957  United Kingdom  "
      ]
     },
     "execution_count": 29,
     "metadata": {},
     "output_type": "execute_result"
    }
   ],
   "source": [
    "df_new.head()"
   ]
  },
  {
   "cell_type": "code",
   "execution_count": 30,
   "metadata": {},
   "outputs": [],
   "source": [
    "MoneySpent = df_new.groupby(by=['UserId','Country'], as_index=False)['AmountSpent'].sum()"
   ]
  },
  {
   "cell_type": "code",
   "execution_count": 31,
   "metadata": {},
   "outputs": [
    {
     "data": {
      "text/html": [
       "<div>\n",
       "<style scoped>\n",
       "    .dataframe tbody tr th:only-of-type {\n",
       "        vertical-align: middle;\n",
       "    }\n",
       "\n",
       "    .dataframe tbody tr th {\n",
       "        vertical-align: top;\n",
       "    }\n",
       "\n",
       "    .dataframe thead th {\n",
       "        text-align: right;\n",
       "    }\n",
       "</style>\n",
       "<table border=\"1\" class=\"dataframe\">\n",
       "  <thead>\n",
       "    <tr style=\"text-align: right;\">\n",
       "      <th></th>\n",
       "      <th>UserId</th>\n",
       "      <th>Country</th>\n",
       "      <th>AmountSpent</th>\n",
       "    </tr>\n",
       "  </thead>\n",
       "  <tbody>\n",
       "    <tr>\n",
       "      <th>0</th>\n",
       "      <td>259266</td>\n",
       "      <td>United Kingdom</td>\n",
       "      <td>320608.800</td>\n",
       "    </tr>\n",
       "    <tr>\n",
       "      <th>1</th>\n",
       "      <td>259287</td>\n",
       "      <td>Iceland</td>\n",
       "      <td>17879.700</td>\n",
       "    </tr>\n",
       "    <tr>\n",
       "      <th>2</th>\n",
       "      <td>259308</td>\n",
       "      <td>Finland</td>\n",
       "      <td>5991.120</td>\n",
       "    </tr>\n",
       "    <tr>\n",
       "      <th>3</th>\n",
       "      <td>259329</td>\n",
       "      <td>Italy</td>\n",
       "      <td>6043.920</td>\n",
       "    </tr>\n",
       "    <tr>\n",
       "      <th>4</th>\n",
       "      <td>259350</td>\n",
       "      <td>Norway</td>\n",
       "      <td>1221.600</td>\n",
       "    </tr>\n",
       "  </tbody>\n",
       "</table>\n",
       "</div>"
      ],
      "text/plain": [
       "   UserId         Country  AmountSpent\n",
       "0  259266  United Kingdom   320608.800\n",
       "1  259287         Iceland    17879.700\n",
       "2  259308         Finland     5991.120\n",
       "3  259329           Italy     6043.920\n",
       "4  259350          Norway     1221.600"
      ]
     },
     "execution_count": 31,
     "metadata": {},
     "output_type": "execute_result"
    }
   ],
   "source": [
    "MoneySpent.head()"
   ]
  },
  {
   "cell_type": "code",
   "execution_count": 32,
   "metadata": {},
   "outputs": [
    {
     "name": "stdout",
     "output_type": "stream",
     "text": [
      "The TOP 5 customers with highest money spent...\n"
     ]
    },
    {
     "data": {
      "text/html": [
       "<div>\n",
       "<style scoped>\n",
       "    .dataframe tbody tr th:only-of-type {\n",
       "        vertical-align: middle;\n",
       "    }\n",
       "\n",
       "    .dataframe tbody tr th {\n",
       "        vertical-align: top;\n",
       "    }\n",
       "\n",
       "    .dataframe thead th {\n",
       "        text-align: right;\n",
       "    }\n",
       "</style>\n",
       "<table border=\"1\" class=\"dataframe\">\n",
       "  <thead>\n",
       "    <tr style=\"text-align: right;\">\n",
       "      <th></th>\n",
       "      <th>UserId</th>\n",
       "      <th>Country</th>\n",
       "      <th>AmountSpent</th>\n",
       "    </tr>\n",
       "  </thead>\n",
       "  <tbody>\n",
       "    <tr>\n",
       "      <th>1046</th>\n",
       "      <td>288687</td>\n",
       "      <td>United Kingdom</td>\n",
       "      <td>40710850.560</td>\n",
       "    </tr>\n",
       "    <tr>\n",
       "      <th>1698</th>\n",
       "      <td>307566</td>\n",
       "      <td>Netherlands</td>\n",
       "      <td>1158793.950</td>\n",
       "    </tr>\n",
       "    <tr>\n",
       "      <th>4206</th>\n",
       "      <td>380142</td>\n",
       "      <td>United Kingdom</td>\n",
       "      <td>1076194.080</td>\n",
       "    </tr>\n",
       "    <tr>\n",
       "      <th>3734</th>\n",
       "      <td>366450</td>\n",
       "      <td>United Kingdom</td>\n",
       "      <td>805910.520</td>\n",
       "    </tr>\n",
       "    <tr>\n",
       "      <th>3015</th>\n",
       "      <td>345366</td>\n",
       "      <td>United Kingdom</td>\n",
       "      <td>699808.830</td>\n",
       "    </tr>\n",
       "  </tbody>\n",
       "</table>\n",
       "</div>"
      ],
      "text/plain": [
       "      UserId         Country  AmountSpent\n",
       "1046  288687  United Kingdom 40710850.560\n",
       "1698  307566     Netherlands  1158793.950\n",
       "4206  380142  United Kingdom  1076194.080\n",
       "3734  366450  United Kingdom   805910.520\n",
       "3015  345366  United Kingdom   699808.830"
      ]
     },
     "execution_count": 32,
     "metadata": {},
     "output_type": "execute_result"
    }
   ],
   "source": [
    "# Top 5 highest money spent\n",
    "\n",
    "print('The TOP 5 customers with highest money spent...')\n",
    "MoneySpent.sort_values(by='AmountSpent', ascending=False).head()"
   ]
  },
  {
   "cell_type": "code",
   "execution_count": 33,
   "metadata": {},
   "outputs": [
    {
     "data": {
      "text/html": [
       "<div>\n",
       "<style scoped>\n",
       "    .dataframe tbody tr th:only-of-type {\n",
       "        vertical-align: middle;\n",
       "    }\n",
       "\n",
       "    .dataframe tbody tr th {\n",
       "        vertical-align: top;\n",
       "    }\n",
       "\n",
       "    .dataframe thead th {\n",
       "        text-align: right;\n",
       "    }\n",
       "</style>\n",
       "<table border=\"1\" class=\"dataframe\">\n",
       "  <thead>\n",
       "    <tr style=\"text-align: right;\">\n",
       "      <th></th>\n",
       "      <th>TransactionId</th>\n",
       "      <th>TransactionTime</th>\n",
       "      <th>Year_Month</th>\n",
       "      <th>Month</th>\n",
       "      <th>Day</th>\n",
       "      <th>Hour</th>\n",
       "      <th>ItemCode</th>\n",
       "      <th>ItemDescription</th>\n",
       "      <th>NumberOfItemsPurchased</th>\n",
       "      <th>CostPerItem</th>\n",
       "      <th>AmountSpent</th>\n",
       "      <th>UserId</th>\n",
       "      <th>Country</th>\n",
       "    </tr>\n",
       "  </thead>\n",
       "  <tbody>\n",
       "    <tr>\n",
       "      <th>135409</th>\n",
       "      <td>5924974</td>\n",
       "      <td>2018-02-24 09:28:00</td>\n",
       "      <td>201802</td>\n",
       "      <td>2</td>\n",
       "      <td>6</td>\n",
       "      <td>9</td>\n",
       "      <td>458199</td>\n",
       "      <td>glitter christmas star</td>\n",
       "      <td>18</td>\n",
       "      <td>1.180</td>\n",
       "      <td>21.240</td>\n",
       "      <td>295785</td>\n",
       "      <td>United Kingdom</td>\n",
       "    </tr>\n",
       "    <tr>\n",
       "      <th>774678</th>\n",
       "      <td>5931321</td>\n",
       "      <td>2018-02-27 08:15:00</td>\n",
       "      <td>201802</td>\n",
       "      <td>2</td>\n",
       "      <td>2</td>\n",
       "      <td>8</td>\n",
       "      <td>1784811</td>\n",
       "      <td>60 teatime fairy cake cases</td>\n",
       "      <td>72</td>\n",
       "      <td>0.760</td>\n",
       "      <td>54.720</td>\n",
       "      <td>351603</td>\n",
       "      <td>United Kingdom</td>\n",
       "    </tr>\n",
       "    <tr>\n",
       "      <th>423166</th>\n",
       "      <td>5901775</td>\n",
       "      <td>2018-02-12 08:54:00</td>\n",
       "      <td>201802</td>\n",
       "      <td>2</td>\n",
       "      <td>1</td>\n",
       "      <td>8</td>\n",
       "      <td>360444</td>\n",
       "      <td>ass col small sand gecko p'weight</td>\n",
       "      <td>6</td>\n",
       "      <td>0.580</td>\n",
       "      <td>3.480</td>\n",
       "      <td>295638</td>\n",
       "      <td>United Kingdom</td>\n",
       "    </tr>\n",
       "    <tr>\n",
       "      <th>423171</th>\n",
       "      <td>5904272</td>\n",
       "      <td>2018-02-13 10:06:00</td>\n",
       "      <td>201802</td>\n",
       "      <td>2</td>\n",
       "      <td>2</td>\n",
       "      <td>10</td>\n",
       "      <td>1732206</td>\n",
       "      <td>wood s/3 cabinet ant white finish</td>\n",
       "      <td>12</td>\n",
       "      <td>9.600</td>\n",
       "      <td>115.200</td>\n",
       "      <td>374850</td>\n",
       "      <td>United Kingdom</td>\n",
       "    </tr>\n",
       "    <tr>\n",
       "      <th>34992</th>\n",
       "      <td>5921883</td>\n",
       "      <td>2018-02-21 11:31:00</td>\n",
       "      <td>201802</td>\n",
       "      <td>2</td>\n",
       "      <td>3</td>\n",
       "      <td>11</td>\n",
       "      <td>998739</td>\n",
       "      <td>tea time oven glove</td>\n",
       "      <td>300</td>\n",
       "      <td>1.470</td>\n",
       "      <td>441.000</td>\n",
       "      <td>289758</td>\n",
       "      <td>United Kingdom</td>\n",
       "    </tr>\n",
       "    <tr>\n",
       "      <th>...</th>\n",
       "      <td>...</td>\n",
       "      <td>...</td>\n",
       "      <td>...</td>\n",
       "      <td>...</td>\n",
       "      <td>...</td>\n",
       "      <td>...</td>\n",
       "      <td>...</td>\n",
       "      <td>...</td>\n",
       "      <td>...</td>\n",
       "      <td>...</td>\n",
       "      <td>...</td>\n",
       "      <td>...</td>\n",
       "      <td>...</td>\n",
       "    </tr>\n",
       "    <tr>\n",
       "      <th>795292</th>\n",
       "      <td>5913677</td>\n",
       "      <td>2028-02-18 09:18:00</td>\n",
       "      <td>202802</td>\n",
       "      <td>2</td>\n",
       "      <td>5</td>\n",
       "      <td>9</td>\n",
       "      <td>475839</td>\n",
       "      <td>lunch box i love london</td>\n",
       "      <td>6</td>\n",
       "      <td>2.700</td>\n",
       "      <td>16.200</td>\n",
       "      <td>335265</td>\n",
       "      <td>United Kingdom</td>\n",
       "    </tr>\n",
       "    <tr>\n",
       "      <th>762212</th>\n",
       "      <td>5913853</td>\n",
       "      <td>2028-02-18 10:31:00</td>\n",
       "      <td>202802</td>\n",
       "      <td>2</td>\n",
       "      <td>5</td>\n",
       "      <td>10</td>\n",
       "      <td>477435</td>\n",
       "      <td>ribbon reel socks and mittens</td>\n",
       "      <td>15</td>\n",
       "      <td>2.280</td>\n",
       "      <td>34.200</td>\n",
       "      <td>333018</td>\n",
       "      <td>United Kingdom</td>\n",
       "    </tr>\n",
       "    <tr>\n",
       "      <th>622412</th>\n",
       "      <td>5912093</td>\n",
       "      <td>2028-02-18 06:08:00</td>\n",
       "      <td>202802</td>\n",
       "      <td>2</td>\n",
       "      <td>5</td>\n",
       "      <td>6</td>\n",
       "      <td>468321</td>\n",
       "      <td>coffee mug cat + bird design</td>\n",
       "      <td>54</td>\n",
       "      <td>3.520</td>\n",
       "      <td>190.080</td>\n",
       "      <td>266301</td>\n",
       "      <td>France</td>\n",
       "    </tr>\n",
       "    <tr>\n",
       "      <th>878512</th>\n",
       "      <td>5913578</td>\n",
       "      <td>2028-02-18 08:37:00</td>\n",
       "      <td>202802</td>\n",
       "      <td>2</td>\n",
       "      <td>5</td>\n",
       "      <td>8</td>\n",
       "      <td>471828</td>\n",
       "      <td>babushka lights string of 10</td>\n",
       "      <td>12</td>\n",
       "      <td>9.320</td>\n",
       "      <td>111.840</td>\n",
       "      <td>296835</td>\n",
       "      <td>United Kingdom</td>\n",
       "    </tr>\n",
       "    <tr>\n",
       "      <th>681603</th>\n",
       "      <td>5913534</td>\n",
       "      <td>2028-02-18 08:28:00</td>\n",
       "      <td>202802</td>\n",
       "      <td>2</td>\n",
       "      <td>5</td>\n",
       "      <td>8</td>\n",
       "      <td>460929</td>\n",
       "      <td>set of 6 strawberry chopsticks</td>\n",
       "      <td>36</td>\n",
       "      <td>1.730</td>\n",
       "      <td>62.280</td>\n",
       "      <td>265587</td>\n",
       "      <td>Germany</td>\n",
       "    </tr>\n",
       "  </tbody>\n",
       "</table>\n",
       "<p>391282 rows × 13 columns</p>\n",
       "</div>"
      ],
      "text/plain": [
       "        TransactionId     TransactionTime  Year_Month  Month  Day  Hour  \\\n",
       "135409        5924974 2018-02-24 09:28:00      201802      2    6     9   \n",
       "774678        5931321 2018-02-27 08:15:00      201802      2    2     8   \n",
       "423166        5901775 2018-02-12 08:54:00      201802      2    1     8   \n",
       "423171        5904272 2018-02-13 10:06:00      201802      2    2    10   \n",
       "34992         5921883 2018-02-21 11:31:00      201802      2    3    11   \n",
       "...               ...                 ...         ...    ...  ...   ...   \n",
       "795292        5913677 2028-02-18 09:18:00      202802      2    5     9   \n",
       "762212        5913853 2028-02-18 10:31:00      202802      2    5    10   \n",
       "622412        5912093 2028-02-18 06:08:00      202802      2    5     6   \n",
       "878512        5913578 2028-02-18 08:37:00      202802      2    5     8   \n",
       "681603        5913534 2028-02-18 08:28:00      202802      2    5     8   \n",
       "\n",
       "        ItemCode                    ItemDescription  NumberOfItemsPurchased  \\\n",
       "135409    458199            glitter christmas star                       18   \n",
       "774678   1784811        60 teatime fairy cake cases                      72   \n",
       "423166    360444  ass col small sand gecko p'weight                       6   \n",
       "423171   1732206  wood s/3 cabinet ant white finish                      12   \n",
       "34992     998739                tea time oven glove                     300   \n",
       "...          ...                                ...                     ...   \n",
       "795292    475839            lunch box i love london                       6   \n",
       "762212    477435      ribbon reel socks and mittens                      15   \n",
       "622412    468321       coffee mug cat + bird design                      54   \n",
       "878512    471828       babushka lights string of 10                      12   \n",
       "681603    460929     set of 6 strawberry chopsticks                      36   \n",
       "\n",
       "        CostPerItem  AmountSpent  UserId         Country  \n",
       "135409        1.180       21.240  295785  United Kingdom  \n",
       "774678        0.760       54.720  351603  United Kingdom  \n",
       "423166        0.580        3.480  295638  United Kingdom  \n",
       "423171        9.600      115.200  374850  United Kingdom  \n",
       "34992         1.470      441.000  289758  United Kingdom  \n",
       "...             ...          ...     ...             ...  \n",
       "795292        2.700       16.200  335265  United Kingdom  \n",
       "762212        2.280       34.200  333018  United Kingdom  \n",
       "622412        3.520      190.080  266301          France  \n",
       "878512        9.320      111.840  296835  United Kingdom  \n",
       "681603        1.730       62.280  265587         Germany  \n",
       "\n",
       "[391282 rows x 13 columns]"
      ]
     },
     "execution_count": 33,
     "metadata": {},
     "output_type": "execute_result"
    }
   ],
   "source": [
    "df_new.sort_values(by='Year_Month')\n",
    "\n",
    "# There are some data where the year is 2028!???\n",
    "# the data set was supposed to be between feb2018-feb2019"
   ]
  },
  {
   "cell_type": "code",
   "execution_count": 34,
   "metadata": {},
   "outputs": [
    {
     "name": "stdout",
     "output_type": "stream",
     "text": [
      "Number of Rows that have date exceeding feb 2019 :  1091\n"
     ]
    }
   ],
   "source": [
    "rows = df_new.apply(lambda df_new: True if df_new['Year_Month'] > 201902 else False , axis=1)\n",
    "count = len(rows[rows == True].index)\n",
    "\n",
    "print('Number of Rows that have date exceeding feb 2019 : ', count)"
   ]
  },
  {
   "cell_type": "code",
   "execution_count": 35,
   "metadata": {},
   "outputs": [],
   "source": [
    "df_new = df_new[df_new['Year_Month'] < 201902]"
   ]
  },
  {
   "cell_type": "code",
   "execution_count": 36,
   "metadata": {},
   "outputs": [
    {
     "name": "stdout",
     "output_type": "stream",
     "text": [
      "Number of Rows that have date exceeding feb 2019 :  0\n"
     ]
    }
   ],
   "source": [
    "rows = df_new.apply(lambda df_new: True if df_new['Year_Month'] > 201902 else False , axis=1)\n",
    "count = len(rows[rows == True].index)\n",
    "\n",
    "print('Number of Rows that have date exceeding feb 2019 : ', count)"
   ]
  },
  {
   "cell_type": "code",
   "execution_count": 37,
   "metadata": {},
   "outputs": [
    {
     "data": {
      "image/png": "[encoded data removed]",
      "text/plain": [
       "<Figure size 1080x432 with 1 Axes>"
      ]
     },
     "metadata": {
      "needs_background": "light"
     },
     "output_type": "display_data"
    }
   ],
   "source": [
    "ax = df_new.groupby('TransactionId')['Year_Month'].unique().value_counts().sort_index().plot(kind='bar',figsize=(15,6))\n",
    "ax.set_xlabel('Month',fontsize=15)\n",
    "ax.set_ylabel('Number of Purchases',fontsize=15)\n",
    "ax.set_title('Number of Purchases for different Months ( Feb 2018 -  Feb 2019)',fontsize=15)\n",
    "ax.set_xticklabels(('Feb_18','Mar_18','Apr_18','May_18','Jun_18','July_18','Aug_18','Sep_18','Oct_18','Nov_18','Dec_18','Jan_19','Feb_19'), rotation='horizontal', fontsize=13)\n",
    "plt.show()"
   ]
  },
  {
   "cell_type": "code",
   "execution_count": 38,
   "metadata": {},
   "outputs": [
    {
     "data": {
      "image/png": "[encoded data removed]",
      "text/plain": [
       "<Figure size 1080x432 with 1 Axes>"
      ]
     },
     "metadata": {
      "needs_background": "light"
     },
     "output_type": "display_data"
    }
   ],
   "source": [
    "ax = df_new.groupby('TransactionId')['Day'].unique().value_counts().sort_index().plot(kind='bar',figsize=(15,6))\n",
    "ax.set_xlabel('Day',fontsize=15)\n",
    "ax.set_ylabel('Number of Purchase',fontsize=15)\n",
    "ax.set_title('Number of Purchase for different Days',fontsize=15)\n",
    "ax.set_xticklabels(('Mon','Tue','Wed','Thur','Fri','Sun'), rotation='horizontal', fontsize=15)\n",
    "plt.show()"
   ]
  },
  {
   "cell_type": "code",
   "execution_count": 39,
   "metadata": {},
   "outputs": [
    {
     "data": {
      "image/png": "[encoded data removed]",
      "text/plain": [
       "<Figure size 1080x432 with 1 Axes>"
      ]
     },
     "metadata": {
      "needs_background": "light"
     },
     "output_type": "display_data"
    }
   ],
   "source": [
    "ax = df_new.groupby('TransactionId')['Hour'].unique().value_counts().iloc[:-1].sort_index().plot(kind='bar',figsize=(15,6))\n",
    "ax.set_xlabel('Hour',fontsize=15)\n",
    "ax.set_ylabel('Number of Purchase',fontsize=15)\n",
    "ax.set_title('Number of Purchase for different Hours',fontsize=15)\n",
    "ax.set_xticklabels(range(6,21), rotation='horizontal', fontsize=15)\n",
    "plt.show()"
   ]
  },
  {
   "cell_type": "code",
   "execution_count": 40,
   "metadata": {},
   "outputs": [
    {
     "data": {
      "image/png": "[encoded data removed]",
      "text/plain": [
       "<Figure size 1080x576 with 1 Axes>"
      ]
     },
     "metadata": {
      "needs_background": "light"
     },
     "output_type": "display_data"
    }
   ],
   "source": [
    "# purchase for different countries\n",
    "\n",
    "group_country_orders = df_new.groupby('Country')['TransactionId'].count().sort_values()\n",
    "# del group_country_orders['United Kingdom']\n",
    "\n",
    "# plot number of unique customers in each country (with UK)\n",
    "plt.subplots(figsize=(15,8))\n",
    "group_country_orders.plot(kind='barh', fontsize=12)\n",
    "plt.xlabel('Number of Purchases', fontsize=12)\n",
    "plt.ylabel('Country', fontsize=12)\n",
    "plt.title('Number of Purchases for different Countries', fontsize=12)\n",
    "plt.show()"
   ]
  },
  {
   "cell_type": "code",
   "execution_count": 41,
   "metadata": {},
   "outputs": [
    {
     "data": {
      "image/png": "[encoded data removed]",
      "text/plain": [
       "<Figure size 1080x576 with 1 Axes>"
      ]
     },
     "metadata": {
      "needs_background": "light"
     },
     "output_type": "display_data"
    }
   ],
   "source": [
    "group_country_orders = df_new.groupby('Country')['TransactionId'].count().sort_values()\n",
    "del group_country_orders['United Kingdom']\n",
    "\n",
    "# plot number of unique customers in each country (without UK)\n",
    "plt.subplots(figsize=(15,8))\n",
    "group_country_orders.plot(kind='barh', fontsize=12)\n",
    "plt.xlabel('Number of Purchases', fontsize=12)\n",
    "plt.ylabel('Country', fontsize=12)\n",
    "plt.title('Number of Purchases for different Countries', fontsize=12)\n",
    "plt.show()"
   ]
  },
  {
   "cell_type": "code",
   "execution_count": 42,
   "metadata": {},
   "outputs": [
    {
     "data": {
      "image/png": "[encoded data removed]",
      "text/plain": [
       "<Figure size 1080x576 with 1 Axes>"
      ]
     },
     "metadata": {
      "needs_background": "light"
     },
     "output_type": "display_data"
    }
   ],
   "source": [
    "# money spent by each country\n",
    "\n",
    "group_country_amount_spent = df_new.groupby('Country')['AmountSpent'].sum().sort_values()\n",
    "# del group_country_orders['United Kingdom']\n",
    "\n",
    "# plot total money spent by each country (with UK)\n",
    "plt.subplots(figsize=(15,8))\n",
    "group_country_amount_spent.plot(kind='barh', fontsize=12)\n",
    "plt.xlabel('Money Spent (Dollar)', fontsize=12)\n",
    "plt.ylabel('Country', fontsize=12)\n",
    "plt.title('Money Spent by different Countries', fontsize=12)\n",
    "plt.show()"
   ]
  },
  {
   "cell_type": "code",
   "execution_count": 43,
   "metadata": {},
   "outputs": [
    {
     "data": {
      "image/png": "[encoded data removed]",
      "text/plain": [
       "<Figure size 1080x576 with 1 Axes>"
      ]
     },
     "metadata": {
      "needs_background": "light"
     },
     "output_type": "display_data"
    }
   ],
   "source": [
    "group_country_amount_spent = df_new.groupby('Country')['AmountSpent'].sum().sort_values()\n",
    "del group_country_amount_spent['United Kingdom']\n",
    "\n",
    "# plot total money spent by each country (without UK)\n",
    "plt.subplots(figsize=(15,8))\n",
    "group_country_amount_spent.plot(kind='barh', fontsize=12)\n",
    "plt.xlabel('Money Spent (Dollar)', fontsize=12)\n",
    "plt.ylabel('Country', fontsize=12)\n",
    "plt.title('Money Spent by different Countries', fontsize=12)\n",
    "plt.show()"
   ]
  },
  {
   "cell_type": "code",
   "execution_count": 44,
   "metadata": {},
   "outputs": [],
   "source": [
    "# df_new.to_csv(\"transactional_dataset_filtered.csv\",index=False)"
   ]
  }
 ],
 "metadata": {
  "kernelspec": {
   "display_name": "Python 3",
   "language": "python",
   "name": "python3"
  },
  "language_info": {
   "codemirror_mode": {
    "name": "ipython",
    "version": 3
   },
   "file_extension": ".py",
   "mimetype": "text/x-python",
   "name": "python",
   "nbconvert_exporter": "python",
   "pygments_lexer": "ipython3",
   "version": "3.7.6"
  }
 },
 "nbformat": 4,
 "nbformat_minor": 4
}
